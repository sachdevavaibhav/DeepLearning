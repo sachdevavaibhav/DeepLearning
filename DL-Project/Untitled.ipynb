{
 "cells": [
  {
   "cell_type": "code",
   "execution_count": 1,
   "id": "e55e110d",
   "metadata": {},
   "outputs": [],
   "source": [
    "import cv2 as cv\n",
    "import numpy as np\n",
    "\n"
   ]
  },
  {
   "cell_type": "code",
   "execution_count": null,
   "id": "632f92f6",
   "metadata": {},
   "outputs": [],
   "source": [
    "\n",
    "#read the image\n",
    "\n",
    "image = cv.imread(\"D:/cropped_training_images/1_left.jpg\")\n",
    "#convert the image to RGB (images are read in BGR in OpenCV)\n",
    "image = cv.cvtColor(image, cv.COLOR_BGR2RGB)\n",
    "#split the image into its three channels\n",
    "(R,G,B) = cv.split(image)\n",
    "#create named windows for each of the images we are going to display\n",
    "cv.namedWindow(\"Blue\", cv.WINDOW_NORMAL)\n",
    "cv.namedWindow(\"Green\", cv.WINDOW_NORMAL)\n",
    "cv.namedWindow(\"Red\", cv.WINDOW_NORMAL)\n",
    "#display the images\n",
    "cv.imshow(\"Blue\",B)\n",
    "cv.imshow(\"Green\", G)\n",
    "cv.imshow(\"Red\", R)\n",
    "if cv.waitKey(0):\n",
    "    cv.destroyAllWindows()"
   ]
  },
  {
   "cell_type": "code",
   "execution_count": null,
   "id": "fa1a83a8",
   "metadata": {},
   "outputs": [],
   "source": []
  }
 ],
 "metadata": {
  "kernelspec": {
   "display_name": "Python 3 (ipykernel)",
   "language": "python",
   "name": "python3"
  },
  "language_info": {
   "codemirror_mode": {
    "name": "ipython",
    "version": 3
   },
   "file_extension": ".py",
   "mimetype": "text/x-python",
   "name": "python",
   "nbconvert_exporter": "python",
   "pygments_lexer": "ipython3",
   "version": "3.9.13"
  }
 },
 "nbformat": 4,
 "nbformat_minor": 5
}
