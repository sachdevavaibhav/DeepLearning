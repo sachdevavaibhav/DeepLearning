{
 "cells": [
  {
   "cell_type": "code",
   "execution_count": 1,
   "id": "41a6f9ab",
   "metadata": {},
   "outputs": [],
   "source": [
    "import tensorflow as tf\n",
    "import pandas as pd\n",
    "import numpy as np"
   ]
  },
  {
   "cell_type": "code",
   "execution_count": 2,
   "id": "a5e57dfd",
   "metadata": {},
   "outputs": [],
   "source": [
    "# Load both left and right eye dataset\n",
    "base_path = 'C:/Users/manik/DL-Project/DeepLearning/DL-Project'\n",
    "left_df = pd.read_excel(f'{base_path}/updated_left_eye.xlsx')\n",
    "right_df = pd.read_excel(f'{base_path}/updated_right_eye.xlsx')\n"
   ]
  },
  {
   "cell_type": "code",
   "execution_count": 3,
   "id": "7a37ac38",
   "metadata": {},
   "outputs": [
    {
     "data": {
      "text/html": [
       "<div>\n",
       "<style scoped>\n",
       "    .dataframe tbody tr th:only-of-type {\n",
       "        vertical-align: middle;\n",
       "    }\n",
       "\n",
       "    .dataframe tbody tr th {\n",
       "        vertical-align: top;\n",
       "    }\n",
       "\n",
       "    .dataframe thead th {\n",
       "        text-align: right;\n",
       "    }\n",
       "</style>\n",
       "<table border=\"1\" class=\"dataframe\">\n",
       "  <thead>\n",
       "    <tr style=\"text-align: right;\">\n",
       "      <th></th>\n",
       "      <th>Unnamed: 0</th>\n",
       "      <th>Fundus</th>\n",
       "      <th>Diagnostic Keywords</th>\n",
       "      <th>N</th>\n",
       "      <th>D</th>\n",
       "      <th>G</th>\n",
       "      <th>C</th>\n",
       "      <th>A</th>\n",
       "      <th>H</th>\n",
       "      <th>M</th>\n",
       "      <th>O</th>\n",
       "    </tr>\n",
       "  </thead>\n",
       "  <tbody>\n",
       "    <tr>\n",
       "      <th>0</th>\n",
       "      <td>0</td>\n",
       "      <td>0_left.jpg</td>\n",
       "      <td>cataract</td>\n",
       "      <td>0</td>\n",
       "      <td>0</td>\n",
       "      <td>0</td>\n",
       "      <td>1</td>\n",
       "      <td>0</td>\n",
       "      <td>0</td>\n",
       "      <td>0</td>\n",
       "      <td>0</td>\n",
       "    </tr>\n",
       "    <tr>\n",
       "      <th>1</th>\n",
       "      <td>1</td>\n",
       "      <td>1_left.jpg</td>\n",
       "      <td>normal fundus</td>\n",
       "      <td>1</td>\n",
       "      <td>0</td>\n",
       "      <td>0</td>\n",
       "      <td>0</td>\n",
       "      <td>0</td>\n",
       "      <td>0</td>\n",
       "      <td>0</td>\n",
       "      <td>0</td>\n",
       "    </tr>\n",
       "    <tr>\n",
       "      <th>2</th>\n",
       "      <td>2</td>\n",
       "      <td>2_left.jpg</td>\n",
       "      <td>laser spot，moderate non proliferative retinopathy</td>\n",
       "      <td>0</td>\n",
       "      <td>1</td>\n",
       "      <td>0</td>\n",
       "      <td>0</td>\n",
       "      <td>0</td>\n",
       "      <td>0</td>\n",
       "      <td>0</td>\n",
       "      <td>1</td>\n",
       "    </tr>\n",
       "    <tr>\n",
       "      <th>3</th>\n",
       "      <td>3</td>\n",
       "      <td>3_left.jpg</td>\n",
       "      <td>normal fundus</td>\n",
       "      <td>1</td>\n",
       "      <td>0</td>\n",
       "      <td>0</td>\n",
       "      <td>0</td>\n",
       "      <td>0</td>\n",
       "      <td>0</td>\n",
       "      <td>0</td>\n",
       "      <td>0</td>\n",
       "    </tr>\n",
       "    <tr>\n",
       "      <th>4</th>\n",
       "      <td>4</td>\n",
       "      <td>4_left.jpg</td>\n",
       "      <td>macular epiretinal membrane</td>\n",
       "      <td>0</td>\n",
       "      <td>0</td>\n",
       "      <td>0</td>\n",
       "      <td>0</td>\n",
       "      <td>0</td>\n",
       "      <td>0</td>\n",
       "      <td>0</td>\n",
       "      <td>1</td>\n",
       "    </tr>\n",
       "  </tbody>\n",
       "</table>\n",
       "</div>"
      ],
      "text/plain": [
       "   Unnamed: 0      Fundus                                Diagnostic Keywords  \\\n",
       "0           0  0_left.jpg                                           cataract   \n",
       "1           1  1_left.jpg                                      normal fundus   \n",
       "2           2  2_left.jpg  laser spot，moderate non proliferative retinopathy   \n",
       "3           3  3_left.jpg                                      normal fundus   \n",
       "4           4  4_left.jpg                        macular epiretinal membrane   \n",
       "\n",
       "   N  D  G  C  A  H  M  O  \n",
       "0  0  0  0  1  0  0  0  0  \n",
       "1  1  0  0  0  0  0  0  0  \n",
       "2  0  1  0  0  0  0  0  1  \n",
       "3  1  0  0  0  0  0  0  0  \n",
       "4  0  0  0  0  0  0  0  1  "
      ]
     },
     "execution_count": 3,
     "metadata": {},
     "output_type": "execute_result"
    }
   ],
   "source": [
    "left_df.head()"
   ]
  },
  {
   "cell_type": "code",
   "execution_count": 4,
   "id": "154d0a83",
   "metadata": {},
   "outputs": [
    {
     "data": {
      "text/html": [
       "<div>\n",
       "<style scoped>\n",
       "    .dataframe tbody tr th:only-of-type {\n",
       "        vertical-align: middle;\n",
       "    }\n",
       "\n",
       "    .dataframe tbody tr th {\n",
       "        vertical-align: top;\n",
       "    }\n",
       "\n",
       "    .dataframe thead th {\n",
       "        text-align: right;\n",
       "    }\n",
       "</style>\n",
       "<table border=\"1\" class=\"dataframe\">\n",
       "  <thead>\n",
       "    <tr style=\"text-align: right;\">\n",
       "      <th></th>\n",
       "      <th>Unnamed: 0</th>\n",
       "      <th>Fundus</th>\n",
       "      <th>Diagnostic Keywords</th>\n",
       "      <th>N</th>\n",
       "      <th>D</th>\n",
       "      <th>G</th>\n",
       "      <th>C</th>\n",
       "      <th>A</th>\n",
       "      <th>H</th>\n",
       "      <th>M</th>\n",
       "      <th>O</th>\n",
       "    </tr>\n",
       "  </thead>\n",
       "  <tbody>\n",
       "    <tr>\n",
       "      <th>0</th>\n",
       "      <td>0</td>\n",
       "      <td>0_right.jpg</td>\n",
       "      <td>normal fundus</td>\n",
       "      <td>1</td>\n",
       "      <td>0</td>\n",
       "      <td>0</td>\n",
       "      <td>0</td>\n",
       "      <td>0</td>\n",
       "      <td>0</td>\n",
       "      <td>0</td>\n",
       "      <td>0</td>\n",
       "    </tr>\n",
       "    <tr>\n",
       "      <th>1</th>\n",
       "      <td>1</td>\n",
       "      <td>1_right.jpg</td>\n",
       "      <td>normal fundus</td>\n",
       "      <td>1</td>\n",
       "      <td>0</td>\n",
       "      <td>0</td>\n",
       "      <td>0</td>\n",
       "      <td>0</td>\n",
       "      <td>0</td>\n",
       "      <td>0</td>\n",
       "      <td>0</td>\n",
       "    </tr>\n",
       "    <tr>\n",
       "      <th>2</th>\n",
       "      <td>2</td>\n",
       "      <td>2_right.jpg</td>\n",
       "      <td>moderate non proliferative retinopathy</td>\n",
       "      <td>0</td>\n",
       "      <td>1</td>\n",
       "      <td>0</td>\n",
       "      <td>0</td>\n",
       "      <td>0</td>\n",
       "      <td>0</td>\n",
       "      <td>0</td>\n",
       "      <td>0</td>\n",
       "    </tr>\n",
       "    <tr>\n",
       "      <th>3</th>\n",
       "      <td>3</td>\n",
       "      <td>3_right.jpg</td>\n",
       "      <td>branch retinal artery occlusion</td>\n",
       "      <td>0</td>\n",
       "      <td>0</td>\n",
       "      <td>0</td>\n",
       "      <td>0</td>\n",
       "      <td>0</td>\n",
       "      <td>0</td>\n",
       "      <td>0</td>\n",
       "      <td>1</td>\n",
       "    </tr>\n",
       "    <tr>\n",
       "      <th>4</th>\n",
       "      <td>4</td>\n",
       "      <td>4_right.jpg</td>\n",
       "      <td>mild nonproliferative retinopathy</td>\n",
       "      <td>0</td>\n",
       "      <td>1</td>\n",
       "      <td>0</td>\n",
       "      <td>0</td>\n",
       "      <td>0</td>\n",
       "      <td>0</td>\n",
       "      <td>0</td>\n",
       "      <td>0</td>\n",
       "    </tr>\n",
       "  </tbody>\n",
       "</table>\n",
       "</div>"
      ],
      "text/plain": [
       "   Unnamed: 0       Fundus                     Diagnostic Keywords  N  D  G  \\\n",
       "0           0  0_right.jpg                           normal fundus  1  0  0   \n",
       "1           1  1_right.jpg                           normal fundus  1  0  0   \n",
       "2           2  2_right.jpg  moderate non proliferative retinopathy  0  1  0   \n",
       "3           3  3_right.jpg         branch retinal artery occlusion  0  0  0   \n",
       "4           4  4_right.jpg       mild nonproliferative retinopathy  0  1  0   \n",
       "\n",
       "   C  A  H  M  O  \n",
       "0  0  0  0  0  0  \n",
       "1  0  0  0  0  0  \n",
       "2  0  0  0  0  0  \n",
       "3  0  0  0  0  1  \n",
       "4  0  0  0  0  0  "
      ]
     },
     "execution_count": 4,
     "metadata": {},
     "output_type": "execute_result"
    }
   ],
   "source": [
    "right_df.head()"
   ]
  },
  {
   "cell_type": "code",
   "execution_count": 5,
   "id": "41ad5dc4",
   "metadata": {},
   "outputs": [
    {
     "data": {
      "text/html": [
       "<div>\n",
       "<style scoped>\n",
       "    .dataframe tbody tr th:only-of-type {\n",
       "        vertical-align: middle;\n",
       "    }\n",
       "\n",
       "    .dataframe tbody tr th {\n",
       "        vertical-align: top;\n",
       "    }\n",
       "\n",
       "    .dataframe thead th {\n",
       "        text-align: right;\n",
       "    }\n",
       "</style>\n",
       "<table border=\"1\" class=\"dataframe\">\n",
       "  <thead>\n",
       "    <tr style=\"text-align: right;\">\n",
       "      <th></th>\n",
       "      <th>Unnamed: 0</th>\n",
       "      <th>Fundus</th>\n",
       "      <th>Diagnostic Keywords</th>\n",
       "      <th>N</th>\n",
       "      <th>D</th>\n",
       "      <th>G</th>\n",
       "      <th>C</th>\n",
       "      <th>A</th>\n",
       "      <th>H</th>\n",
       "      <th>M</th>\n",
       "      <th>O</th>\n",
       "    </tr>\n",
       "  </thead>\n",
       "  <tbody>\n",
       "    <tr>\n",
       "      <th>0</th>\n",
       "      <td>0</td>\n",
       "      <td>0_left.jpg</td>\n",
       "      <td>cataract</td>\n",
       "      <td>0</td>\n",
       "      <td>0</td>\n",
       "      <td>0</td>\n",
       "      <td>1</td>\n",
       "      <td>0</td>\n",
       "      <td>0</td>\n",
       "      <td>0</td>\n",
       "      <td>0</td>\n",
       "    </tr>\n",
       "    <tr>\n",
       "      <th>1</th>\n",
       "      <td>1</td>\n",
       "      <td>1_left.jpg</td>\n",
       "      <td>normal fundus</td>\n",
       "      <td>1</td>\n",
       "      <td>0</td>\n",
       "      <td>0</td>\n",
       "      <td>0</td>\n",
       "      <td>0</td>\n",
       "      <td>0</td>\n",
       "      <td>0</td>\n",
       "      <td>0</td>\n",
       "    </tr>\n",
       "    <tr>\n",
       "      <th>2</th>\n",
       "      <td>2</td>\n",
       "      <td>2_left.jpg</td>\n",
       "      <td>laser spot，moderate non proliferative retinopathy</td>\n",
       "      <td>0</td>\n",
       "      <td>1</td>\n",
       "      <td>0</td>\n",
       "      <td>0</td>\n",
       "      <td>0</td>\n",
       "      <td>0</td>\n",
       "      <td>0</td>\n",
       "      <td>1</td>\n",
       "    </tr>\n",
       "    <tr>\n",
       "      <th>3</th>\n",
       "      <td>3</td>\n",
       "      <td>3_left.jpg</td>\n",
       "      <td>normal fundus</td>\n",
       "      <td>1</td>\n",
       "      <td>0</td>\n",
       "      <td>0</td>\n",
       "      <td>0</td>\n",
       "      <td>0</td>\n",
       "      <td>0</td>\n",
       "      <td>0</td>\n",
       "      <td>0</td>\n",
       "    </tr>\n",
       "    <tr>\n",
       "      <th>4</th>\n",
       "      <td>4</td>\n",
       "      <td>4_left.jpg</td>\n",
       "      <td>macular epiretinal membrane</td>\n",
       "      <td>0</td>\n",
       "      <td>0</td>\n",
       "      <td>0</td>\n",
       "      <td>0</td>\n",
       "      <td>0</td>\n",
       "      <td>0</td>\n",
       "      <td>0</td>\n",
       "      <td>1</td>\n",
       "    </tr>\n",
       "  </tbody>\n",
       "</table>\n",
       "</div>"
      ],
      "text/plain": [
       "   Unnamed: 0      Fundus                                Diagnostic Keywords  \\\n",
       "0           0  0_left.jpg                                           cataract   \n",
       "1           1  1_left.jpg                                      normal fundus   \n",
       "2           2  2_left.jpg  laser spot，moderate non proliferative retinopathy   \n",
       "3           3  3_left.jpg                                      normal fundus   \n",
       "4           4  4_left.jpg                        macular epiretinal membrane   \n",
       "\n",
       "   N  D  G  C  A  H  M  O  \n",
       "0  0  0  0  1  0  0  0  0  \n",
       "1  1  0  0  0  0  0  0  0  \n",
       "2  0  1  0  0  0  0  0  1  \n",
       "3  1  0  0  0  0  0  0  0  \n",
       "4  0  0  0  0  0  0  0  1  "
      ]
     },
     "execution_count": 5,
     "metadata": {},
     "output_type": "execute_result"
    }
   ],
   "source": [
    "df = pd.concat([left_df, right_df], axis=0)\n",
    "df.head()\n"
   ]
  },
  {
   "cell_type": "code",
   "execution_count": 6,
   "id": "a3179281",
   "metadata": {},
   "outputs": [
    {
     "data": {
      "text/html": [
       "<div>\n",
       "<style scoped>\n",
       "    .dataframe tbody tr th:only-of-type {\n",
       "        vertical-align: middle;\n",
       "    }\n",
       "\n",
       "    .dataframe tbody tr th {\n",
       "        vertical-align: top;\n",
       "    }\n",
       "\n",
       "    .dataframe thead th {\n",
       "        text-align: right;\n",
       "    }\n",
       "</style>\n",
       "<table border=\"1\" class=\"dataframe\">\n",
       "  <thead>\n",
       "    <tr style=\"text-align: right;\">\n",
       "      <th></th>\n",
       "      <th>Unnamed: 0</th>\n",
       "      <th>Fundus</th>\n",
       "      <th>Diagnostic Keywords</th>\n",
       "      <th>N</th>\n",
       "      <th>D</th>\n",
       "      <th>G</th>\n",
       "      <th>C</th>\n",
       "      <th>A</th>\n",
       "      <th>H</th>\n",
       "      <th>M</th>\n",
       "      <th>O</th>\n",
       "    </tr>\n",
       "  </thead>\n",
       "  <tbody>\n",
       "    <tr>\n",
       "      <th>3478</th>\n",
       "      <td>3495</td>\n",
       "      <td>4686_right.jpg</td>\n",
       "      <td>proliferative diabetic retinopathy</td>\n",
       "      <td>0</td>\n",
       "      <td>1</td>\n",
       "      <td>0</td>\n",
       "      <td>0</td>\n",
       "      <td>0</td>\n",
       "      <td>0</td>\n",
       "      <td>0</td>\n",
       "      <td>0</td>\n",
       "    </tr>\n",
       "    <tr>\n",
       "      <th>3479</th>\n",
       "      <td>3496</td>\n",
       "      <td>4688_right.jpg</td>\n",
       "      <td>moderate non proliferative retinopathy</td>\n",
       "      <td>0</td>\n",
       "      <td>1</td>\n",
       "      <td>0</td>\n",
       "      <td>0</td>\n",
       "      <td>0</td>\n",
       "      <td>0</td>\n",
       "      <td>0</td>\n",
       "      <td>0</td>\n",
       "    </tr>\n",
       "    <tr>\n",
       "      <th>3480</th>\n",
       "      <td>3497</td>\n",
       "      <td>4689_right.jpg</td>\n",
       "      <td>normal fundus</td>\n",
       "      <td>1</td>\n",
       "      <td>0</td>\n",
       "      <td>0</td>\n",
       "      <td>0</td>\n",
       "      <td>0</td>\n",
       "      <td>0</td>\n",
       "      <td>0</td>\n",
       "      <td>0</td>\n",
       "    </tr>\n",
       "    <tr>\n",
       "      <th>3481</th>\n",
       "      <td>3498</td>\n",
       "      <td>4690_right.jpg</td>\n",
       "      <td>mild nonproliferative retinopathy</td>\n",
       "      <td>0</td>\n",
       "      <td>1</td>\n",
       "      <td>0</td>\n",
       "      <td>0</td>\n",
       "      <td>0</td>\n",
       "      <td>0</td>\n",
       "      <td>0</td>\n",
       "      <td>0</td>\n",
       "    </tr>\n",
       "    <tr>\n",
       "      <th>3482</th>\n",
       "      <td>3499</td>\n",
       "      <td>4784_right.jpg</td>\n",
       "      <td>hypertensive retinopathy，age-related macular d...</td>\n",
       "      <td>0</td>\n",
       "      <td>0</td>\n",
       "      <td>0</td>\n",
       "      <td>0</td>\n",
       "      <td>1</td>\n",
       "      <td>1</td>\n",
       "      <td>0</td>\n",
       "      <td>0</td>\n",
       "    </tr>\n",
       "  </tbody>\n",
       "</table>\n",
       "</div>"
      ],
      "text/plain": [
       "      Unnamed: 0          Fundus  \\\n",
       "3478        3495  4686_right.jpg   \n",
       "3479        3496  4688_right.jpg   \n",
       "3480        3497  4689_right.jpg   \n",
       "3481        3498  4690_right.jpg   \n",
       "3482        3499  4784_right.jpg   \n",
       "\n",
       "                                    Diagnostic Keywords  N  D  G  C  A  H  M  \\\n",
       "3478                 proliferative diabetic retinopathy  0  1  0  0  0  0  0   \n",
       "3479             moderate non proliferative retinopathy  0  1  0  0  0  0  0   \n",
       "3480                                      normal fundus  1  0  0  0  0  0  0   \n",
       "3481                  mild nonproliferative retinopathy  0  1  0  0  0  0  0   \n",
       "3482  hypertensive retinopathy，age-related macular d...  0  0  0  0  1  1  0   \n",
       "\n",
       "      O  \n",
       "3478  0  \n",
       "3479  0  \n",
       "3480  0  \n",
       "3481  0  \n",
       "3482  0  "
      ]
     },
     "execution_count": 6,
     "metadata": {},
     "output_type": "execute_result"
    }
   ],
   "source": [
    "df.tail()"
   ]
  },
  {
   "cell_type": "code",
   "execution_count": 7,
   "id": "7a1e59c2",
   "metadata": {},
   "outputs": [
    {
     "data": {
      "text/plain": [
       "(6968, 11)"
      ]
     },
     "execution_count": 7,
     "metadata": {},
     "output_type": "execute_result"
    }
   ],
   "source": [
    "df.shape\n"
   ]
  },
  {
   "cell_type": "code",
   "execution_count": 8,
   "id": "d975dbd1",
   "metadata": {},
   "outputs": [
    {
     "data": {
      "text/plain": [
       "0    D:/cropped_training_images/0_left.jpg\n",
       "1    D:/cropped_training_images/1_left.jpg\n",
       "2    D:/cropped_training_images/2_left.jpg\n",
       "3    D:/cropped_training_images/3_left.jpg\n",
       "4    D:/cropped_training_images/4_left.jpg\n",
       "Name: Fundus, dtype: object"
      ]
     },
     "execution_count": 8,
     "metadata": {},
     "output_type": "execute_result"
    }
   ],
   "source": [
    "# Input pipeline\n",
    "base_path = 'D:/cropped_training_images/'\n",
    "image_name = base_path + df['Fundus']\n",
    "image_name[:5]"
   ]
  },
  {
   "cell_type": "code",
   "execution_count": 9,
   "id": "3302e3e1",
   "metadata": {},
   "outputs": [],
   "source": [
    "labels = df.loc[:,['N', 'D', 'G', 'C', 'A', 'H', 'M', 'O']]\n",
    "labels = labels.values"
   ]
  },
  {
   "cell_type": "code",
   "execution_count": 10,
   "id": "4dc4b359",
   "metadata": {},
   "outputs": [
    {
     "data": {
      "text/plain": [
       "array([[0, 0, 0, ..., 0, 0, 0],\n",
       "       [1, 0, 0, ..., 0, 0, 0],\n",
       "       [0, 1, 0, ..., 0, 0, 1],\n",
       "       ...,\n",
       "       [1, 0, 0, ..., 0, 0, 0],\n",
       "       [0, 1, 0, ..., 0, 0, 0],\n",
       "       [0, 0, 0, ..., 1, 0, 0]], dtype=int64)"
      ]
     },
     "execution_count": 10,
     "metadata": {},
     "output_type": "execute_result"
    }
   ],
   "source": [
    "labels"
   ]
  },
  {
   "cell_type": "code",
   "execution_count": 11,
   "id": "0cb05fa1",
   "metadata": {},
   "outputs": [
    {
     "data": {
      "text/plain": [
       "(6968, 8)"
      ]
     },
     "execution_count": 11,
     "metadata": {},
     "output_type": "execute_result"
    }
   ],
   "source": [
    "labels.shape"
   ]
  },
  {
   "cell_type": "code",
   "execution_count": 12,
   "id": "129983ab",
   "metadata": {},
   "outputs": [],
   "source": [
    "labels = tf.constant(labels, dtype=tf.float32)"
   ]
  },
  {
   "cell_type": "code",
   "execution_count": 13,
   "id": "aefe26d6",
   "metadata": {},
   "outputs": [
    {
     "data": {
      "text/plain": [
       "0           D:/cropped_training_images/0_left.jpg\n",
       "1           D:/cropped_training_images/1_left.jpg\n",
       "2           D:/cropped_training_images/2_left.jpg\n",
       "3           D:/cropped_training_images/3_left.jpg\n",
       "4           D:/cropped_training_images/4_left.jpg\n",
       "                          ...                    \n",
       "3478    D:/cropped_training_images/4686_right.jpg\n",
       "3479    D:/cropped_training_images/4688_right.jpg\n",
       "3480    D:/cropped_training_images/4689_right.jpg\n",
       "3481    D:/cropped_training_images/4690_right.jpg\n",
       "3482    D:/cropped_training_images/4784_right.jpg\n",
       "Name: Fundus, Length: 6968, dtype: object"
      ]
     },
     "execution_count": 13,
     "metadata": {},
     "output_type": "execute_result"
    }
   ],
   "source": [
    "image_name"
   ]
  },
  {
   "cell_type": "code",
   "execution_count": 14,
   "id": "65da54d6",
   "metadata": {},
   "outputs": [
    {
     "data": {
      "text/plain": [
       "<tf.Tensor: shape=(6968, 8), dtype=float32, numpy=\n",
       "array([[0., 0., 0., ..., 0., 0., 0.],\n",
       "       [1., 0., 0., ..., 0., 0., 0.],\n",
       "       [0., 1., 0., ..., 0., 0., 1.],\n",
       "       ...,\n",
       "       [1., 0., 0., ..., 0., 0., 0.],\n",
       "       [0., 1., 0., ..., 0., 0., 0.],\n",
       "       [0., 0., 0., ..., 1., 0., 0.]], dtype=float32)>"
      ]
     },
     "execution_count": 14,
     "metadata": {},
     "output_type": "execute_result"
    }
   ],
   "source": [
    "labels"
   ]
  },
  {
   "cell_type": "code",
   "execution_count": 15,
   "id": "6c6c2571",
   "metadata": {},
   "outputs": [],
   "source": [
    "# Create a function to load the images using TensorFlow's `tf.io.read_file` function and `tf.image.decode_jpeg` function.\n",
    "def load_image(image_path, label):\n",
    "    image = tf.io.read_file(image_path)\n",
    "    image = tf.image.decode_jpeg(image, channels=3)\n",
    "    image = tf.image.resize(image, [250, 250])\n",
    "    image /= 255.0  # normalize the pixels\n",
    "#     image = tf.expand_dims(image, axis=0) # Add a batch dimension to the image\n",
    "#     label = tf.transpose(label)\n",
    "    return image, label"
   ]
  },
  {
   "cell_type": "code",
   "execution_count": 16,
   "id": "aedc96ff",
   "metadata": {},
   "outputs": [],
   "source": [
    "# labels.T"
   ]
  },
  {
   "cell_type": "code",
   "execution_count": 17,
   "id": "d7973d87",
   "metadata": {},
   "outputs": [],
   "source": [
    "# Load the images and their labels into a TensorFlow dataset\n",
    "dataset = tf.data.Dataset.from_tensor_slices((image_name, labels))\n",
    "dataset = dataset.map(load_image)\n",
    "dataset = dataset.batch(16)"
   ]
  },
  {
   "cell_type": "code",
   "execution_count": 18,
   "id": "bfbcccb9",
   "metadata": {},
   "outputs": [
    {
     "data": {
      "text/plain": [
       "<BatchDataset element_spec=(TensorSpec(shape=(None, 250, 250, 3), dtype=tf.float32, name=None), TensorSpec(shape=(None, 8), dtype=tf.float32, name=None))>"
      ]
     },
     "execution_count": 18,
     "metadata": {},
     "output_type": "execute_result"
    }
   ],
   "source": [
    "dataset"
   ]
  },
  {
   "cell_type": "code",
   "execution_count": 19,
   "id": "0a449fda",
   "metadata": {},
   "outputs": [],
   "source": [
    "def split_data(dataset, train_split, test_split, val_split):\n",
    "    # Calculate the size of each split\n",
    "    dataset_size = dataset.reduce(tf.constant(0, dtype=tf.int64), lambda acc, _: acc + 1).numpy()\n",
    "    train_size = int(dataset_size * train_split)\n",
    "    val_size = int(dataset_size * val_split)\n",
    "    test_size = int(dataset_size * test_split)\n",
    "\n",
    "    # Shuffle the elements of the dataset randomly\n",
    "    dataset = dataset.shuffle(buffer_size=dataset_size, seed=42)\n",
    "\n",
    "    # Split the dataset into train, validation, and test sets\n",
    "    train_dataset = dataset.take(train_size)\n",
    "    remaining_dataset = dataset.skip(train_size)\n",
    "    val_dataset = remaining_dataset.take(val_size)\n",
    "    test_dataset = remaining_dataset.skip(val_size)\n",
    "    return train_dataset, test_dataset, val_dataset"
   ]
  },
  {
   "cell_type": "code",
   "execution_count": 20,
   "id": "c1edb99b",
   "metadata": {},
   "outputs": [
    {
     "name": "stdout",
     "output_type": "stream",
     "text": [
      "WARNING:tensorflow:From C:\\Users\\manik\\anaconda3\\lib\\site-packages\\tensorflow\\python\\autograph\\pyct\\static_analysis\\liveness.py:83: Analyzer.lamba_check (from tensorflow.python.autograph.pyct.static_analysis.liveness) is deprecated and will be removed after 2023-09-23.\n",
      "Instructions for updating:\n",
      "Lambda fuctions will be no more assumed to be used in the statement where they are used, or at least in the same block. https://github.com/tensorflow/tensorflow/issues/56089\n"
     ]
    }
   ],
   "source": [
    "train_dataset, test_dataset, val_dataset = split_data(dataset, train_split=0.7, test_split=0.15, val_split=0.15)"
   ]
  },
  {
   "cell_type": "code",
   "execution_count": 21,
   "id": "39717276",
   "metadata": {},
   "outputs": [],
   "source": [
    "from keras.applications import VGG19\n",
    "base_model = VGG19(\n",
    "    include_top=False,\n",
    "    weights='imagenet',\n",
    "    input_shape=(250,250,3)\n",
    ")\n",
    "base_model.trainable = False"
   ]
  },
  {
   "cell_type": "code",
   "execution_count": 22,
   "id": "e7331940",
   "metadata": {},
   "outputs": [],
   "source": [
    "# # Define the model architecture\n",
    "# model = tf.keras.Sequential([\n",
    "#     base_model,\n",
    "#     tf.keras.layers.Flatten(),\n",
    "#     tf.keras.layers.Dense(1024, activation='relu'),\n",
    "#     tf.keras.layers.Dense(8, activation='sigmoid')\n",
    "# ])"
   ]
  },
  {
   "cell_type": "code",
   "execution_count": 23,
   "id": "73418fe8",
   "metadata": {},
   "outputs": [
    {
     "data": {
      "text/plain": [
       "<KerasTensor: shape=(None, 250, 250, 3) dtype=float32 (created by layer 'input_1')>"
      ]
     },
     "execution_count": 23,
     "metadata": {},
     "output_type": "execute_result"
    }
   ],
   "source": [
    "base_model.input"
   ]
  },
  {
   "cell_type": "code",
   "execution_count": 24,
   "id": "af66b4db",
   "metadata": {},
   "outputs": [],
   "source": [
    "x = base_model.output\n",
    "x = tf.keras.layers.Flatten()(x)\n",
    "fc1 = tf.keras.layers.Dense(units=1024, activation='relu')(x)\n",
    "output_layer = tf.keras.layers.Dense(units=8, activation='sigmoid')(fc1)"
   ]
  },
  {
   "cell_type": "code",
   "execution_count": 25,
   "id": "358fc662",
   "metadata": {},
   "outputs": [],
   "source": [
    "model = tf.keras.Model(inputs=base_model.input, outputs=output_layer)"
   ]
  },
  {
   "cell_type": "code",
   "execution_count": 26,
   "id": "749f10ac",
   "metadata": {},
   "outputs": [],
   "source": [
    "import tensorflow_addons as tfa\n",
    "accuracy = tf.keras.metrics.Accuracy()\n",
    "precision = tf.keras.metrics.Precision()\n",
    "recall = tf.keras.metrics.Recall()\n",
    "f1_score = tfa.metrics.F1Score(num_classes=8)"
   ]
  },
  {
   "cell_type": "code",
   "execution_count": 30,
   "id": "9bc2b03c",
   "metadata": {},
   "outputs": [],
   "source": [
    "# Compile the model\n",
    "base_learning_rate = 0.0001\n",
    "model.compile(optimizer=tf.keras.optimizers.Adam(learning_rate=base_learning_rate),\n",
    "               loss='binary_crossentropy',\n",
    "              metrics=['accuracy', precision , recall, f1_score])\n",
    "#model.compile(optimizer='adam', loss='binary_crossentropy', metrics=['accuracy', precision , recall, f1_score])"
   ]
  },
  {
   "cell_type": "code",
   "execution_count": 31,
   "id": "11a2898c",
   "metadata": {},
   "outputs": [
    {
     "name": "stdout",
     "output_type": "stream",
     "text": [
      "Model: \"model\"\n",
      "_________________________________________________________________\n",
      " Layer (type)                Output Shape              Param #   \n",
      "=================================================================\n",
      " input_1 (InputLayer)        [(None, 250, 250, 3)]     0         \n",
      "                                                                 \n",
      " block1_conv1 (Conv2D)       (None, 250, 250, 64)      1792      \n",
      "                                                                 \n",
      " block1_conv2 (Conv2D)       (None, 250, 250, 64)      36928     \n",
      "                                                                 \n",
      " block1_pool (MaxPooling2D)  (None, 125, 125, 64)      0         \n",
      "                                                                 \n",
      " block2_conv1 (Conv2D)       (None, 125, 125, 128)     73856     \n",
      "                                                                 \n",
      " block2_conv2 (Conv2D)       (None, 125, 125, 128)     147584    \n",
      "                                                                 \n",
      " block2_pool (MaxPooling2D)  (None, 62, 62, 128)       0         \n",
      "                                                                 \n",
      " block3_conv1 (Conv2D)       (None, 62, 62, 256)       295168    \n",
      "                                                                 \n",
      " block3_conv2 (Conv2D)       (None, 62, 62, 256)       590080    \n",
      "                                                                 \n",
      " block3_conv3 (Conv2D)       (None, 62, 62, 256)       590080    \n",
      "                                                                 \n",
      " block3_conv4 (Conv2D)       (None, 62, 62, 256)       590080    \n",
      "                                                                 \n",
      " block3_pool (MaxPooling2D)  (None, 31, 31, 256)       0         \n",
      "                                                                 \n",
      " block4_conv1 (Conv2D)       (None, 31, 31, 512)       1180160   \n",
      "                                                                 \n",
      " block4_conv2 (Conv2D)       (None, 31, 31, 512)       2359808   \n",
      "                                                                 \n",
      " block4_conv3 (Conv2D)       (None, 31, 31, 512)       2359808   \n",
      "                                                                 \n",
      " block4_conv4 (Conv2D)       (None, 31, 31, 512)       2359808   \n",
      "                                                                 \n",
      " block4_pool (MaxPooling2D)  (None, 15, 15, 512)       0         \n",
      "                                                                 \n",
      " block5_conv1 (Conv2D)       (None, 15, 15, 512)       2359808   \n",
      "                                                                 \n",
      " block5_conv2 (Conv2D)       (None, 15, 15, 512)       2359808   \n",
      "                                                                 \n",
      " block5_conv3 (Conv2D)       (None, 15, 15, 512)       2359808   \n",
      "                                                                 \n",
      " block5_conv4 (Conv2D)       (None, 15, 15, 512)       2359808   \n",
      "                                                                 \n",
      " block5_pool (MaxPooling2D)  (None, 7, 7, 512)         0         \n",
      "                                                                 \n",
      " flatten (Flatten)           (None, 25088)             0         \n",
      "                                                                 \n",
      " dense (Dense)               (None, 1024)              25691136  \n",
      "                                                                 \n",
      " dense_1 (Dense)             (None, 8)                 8200      \n",
      "                                                                 \n",
      "=================================================================\n",
      "Total params: 45,723,720\n",
      "Trainable params: 25,699,336\n",
      "Non-trainable params: 20,024,384\n",
      "_________________________________________________________________\n"
     ]
    }
   ],
   "source": [
    "model.summary()"
   ]
  },
  {
   "cell_type": "code",
   "execution_count": 32,
   "id": "e204ad4e",
   "metadata": {},
   "outputs": [
    {
     "name": "stdout",
     "output_type": "stream",
     "text": [
      "Epoch 1/10\n",
      "305/305 [==============================] - 1297s 4s/step - loss: 0.3831 - accuracy: 0.3838 - precision: 0.4272 - recall: 0.2790 - f1_score: 0.1460 - val_loss: 0.3473 - val_accuracy: 0.4460 - val_precision: 0.4474 - val_recall: 0.4140 - val_f1_score: 0.1055\n",
      "Epoch 2/10\n",
      "305/305 [==============================] - 1225s 4s/step - loss: 0.3280 - accuracy: 0.3879 - precision: 0.4190 - recall: 0.1877 - f1_score: 0.2091 - val_loss: 0.2829 - val_accuracy: 0.5248 - val_precision: 0.5409 - val_recall: 0.4947 - val_f1_score: 0.2146\n",
      "Epoch 3/10\n",
      "305/305 [==============================] - 1234s 4s/step - loss: 0.3033 - accuracy: 0.4466 - precision: 0.4952 - recall: 0.2371 - f1_score: 0.2476 - val_loss: 0.3013 - val_accuracy: 0.3931 - val_precision: 0.4682 - val_recall: 0.1102 - val_f1_score: 0.2707\n",
      "Epoch 4/10\n",
      "305/305 [==============================] - 1299s 4s/step - loss: 0.2968 - accuracy: 0.4477 - precision: 0.4960 - recall: 0.2593 - f1_score: 0.2549 - val_loss: 0.2720 - val_accuracy: 0.5322 - val_precision: 0.7414 - val_recall: 0.1545 - val_f1_score: 0.2252\n",
      "Epoch 5/10\n",
      "305/305 [==============================] - 2183s 7s/step - loss: 0.2938 - accuracy: 0.4682 - precision: 0.5583 - recall: 0.2959 - f1_score: 0.2895 - val_loss: 0.3575 - val_accuracy: 0.2462 - val_precision: 0.3642 - val_recall: 0.1964 - val_f1_score: 0.1585\n",
      "Epoch 6/10\n",
      "305/305 [==============================] - 2045s 7s/step - loss: 0.2924 - accuracy: 0.4738 - precision: 0.5388 - recall: 0.2848 - f1_score: 0.2729 - val_loss: 0.2868 - val_accuracy: 0.4441 - val_precision: 0.5112 - val_recall: 0.2626 - val_f1_score: 0.3175\n",
      "Epoch 7/10\n",
      "305/305 [==============================] - 1445s 5s/step - loss: 0.2866 - accuracy: 0.4756 - precision: 0.5596 - recall: 0.2770 - f1_score: 0.2952 - val_loss: 0.2833 - val_accuracy: 0.4915 - val_precision: 0.5310 - val_recall: 0.4263 - val_f1_score: 0.2599\n",
      "Epoch 8/10\n",
      "305/305 [==============================] - 1300s 4s/step - loss: 0.2874 - accuracy: 0.4797 - precision: 0.5438 - recall: 0.2751 - f1_score: 0.3093 - val_loss: 0.2618 - val_accuracy: 0.5161 - val_precision: 0.8125 - val_recall: 0.1172 - val_f1_score: 0.2969\n",
      "Epoch 9/10\n",
      "305/305 [==============================] - 1283s 4s/step - loss: 0.2816 - accuracy: 0.4748 - precision: 0.5514 - recall: 0.2485 - f1_score: 0.3035 - val_loss: 0.2824 - val_accuracy: 0.4100 - val_precision: 0.7261 - val_recall: 0.0986 - val_f1_score: 0.3307\n",
      "Epoch 10/10\n",
      "305/305 [==============================] - 1277s 4s/step - loss: 0.2782 - accuracy: 0.4844 - precision: 0.5732 - recall: 0.2801 - f1_score: 0.3038 - val_loss: 0.2707 - val_accuracy: 0.5464 - val_precision: 0.5581 - val_recall: 0.5053 - val_f1_score: 0.2411\n"
     ]
    }
   ],
   "source": [
    "# Train the model\n",
    "history = model.fit(train_dataset, epochs=10, batch_size=16, validation_data=test_dataset)"
   ]
  },
  {
   "cell_type": "code",
   "execution_count": 33,
   "id": "c7d18ded",
   "metadata": {},
   "outputs": [],
   "source": [
    "model.save('C:/Users/manik/DL-Project/DeepLearning/DL-Project/models/model_1_v1.h5')"
   ]
  },
  {
   "cell_type": "code",
   "execution_count": null,
   "id": "973eec4a",
   "metadata": {},
   "outputs": [],
   "source": []
  },
  {
   "cell_type": "code",
   "execution_count": null,
   "id": "1a398647",
   "metadata": {},
   "outputs": [],
   "source": []
  }
 ],
 "metadata": {
  "kernelspec": {
   "display_name": "Python 3 (ipykernel)",
   "language": "python",
   "name": "python3"
  },
  "language_info": {
   "codemirror_mode": {
    "name": "ipython",
    "version": 3
   },
   "file_extension": ".py",
   "mimetype": "text/x-python",
   "name": "python",
   "nbconvert_exporter": "python",
   "pygments_lexer": "ipython3",
   "version": "3.9.13"
  }
 },
 "nbformat": 4,
 "nbformat_minor": 5
}
