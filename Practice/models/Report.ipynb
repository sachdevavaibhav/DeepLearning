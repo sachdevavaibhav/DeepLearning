{
 "cells": [
  {
   "cell_type": "markdown",
   "id": "66f10f87",
   "metadata": {},
   "source": [
    "# Table \n",
    "\n",
    "|  Model  | Layer | Layer Type | Units | Activation | Epochs | Train Accuracy(%)|\n",
    "|:-------:|:-----:|:----------:|:-----:|:----------:|:------:|:----------------:|\n",
    "|  Model1 |   1   |    Dense   |  512  |    relu    |    5   |       98.88      |\n",
    "|         |   2   |    Dense   |   10  |   softmax  |        |                  |\n",
    "|  Model2 |   1   |    Dense   |  512  |    relu    |    5   |       98.95      |\n",
    "|         |   2   |    Dense   |  256  |    relu    |        |                  |\n",
    "|         |   3   |    Dense   |  128  |    relu    |        |                  |\n",
    "|         |   4   |    Dense   |   10  |   softmax  |        |                  |\n",
    "|  Model3 |   1   |    Dense   |  512  |    relu    |    5   |       98.86      |\n",
    "|         |   2   |    Dense   |  256  |    relu    |        |                  |\n",
    "|         |   3   |    Dense   |  128  |    relu    |        |                  |\n",
    "|         |   4   |    Dense   |   64  |    relu    |        |                  |\n",
    "|         |   5   |    Dense   |   10  |   softmax  |        |                  |\n",
    "|  Model4 |   1   |    Dense   |  512  |    relu    |    5   |       98.84      |\n",
    "|         |   2   |    Dense   |  256  |    relu    |        |                  |\n",
    "|         |   3   |    Dense   |  128  |    relu    |        |                  |\n",
    "|         |   4   |    Dense   |   64  |    relu    |        |                  |\n",
    "|         |   5   |    Dense   |   32  |    relu    |        |                  |\n",
    "|         |   6   |    Dense   |   10  |   softmax  |        |                  |\n",
    "|  Model5 |   1   |    Dense   |  512  |    relu    |    5   |       98.66      |\n",
    "|         |   2   |    Dense   |  256  |    relu    |        |                  |\n",
    "|         |   3   |    Dense   |  128  |    relu    |        |                  |\n",
    "|         |   4   |    Dense   |   64  |    relu    |        |                  |\n",
    "|         |   5   |    Dense   |   32  |    relu    |        |                  |\n",
    "|         |   6   |    Dense   |   16  |    relu    |        |                  |\n",
    "|         |   7   |    Dense   |   10  |   softmax  |        |                  |\n",
    "|  Model6 |   1   |    Dense   |  512  |    relu    |    5   |       99.09      |\n",
    "|         |   2   |    Dense   |  256  |    relu    |        |                  |\n",
    "|         |   3   |    Dense   |   10  |   softmax  |        |                  |\n",
    "|  Model7 |   1   |    Dense   |  512  |   sigmoid  |    5   |       97.25      |\n",
    "|         |   2   |    Dense   |  256  |   sigmoid  |        |                  |\n",
    "|         |   3   |    Dense   |   10  |   softmax  |        |                  |\n",
    "|  Model8 |   1   |    Dense   |  512  |    relu    |   10   |       99.65      |\n",
    "|         |   2   |    Dense   |  256  |    relu    |        |                  |\n",
    "|         |   3   |    Dense   |   10  |   softmax  |        |                  |\n",
    "|  Model9 |   1   |    Dense   |  512  |    relu    |   20   |       99.91      |\n",
    "|         |   2   |    Dense   |  256  |    relu    |        |                  |\n",
    "|         |   3   |    Dense   |   10  |   softmax  |        |                  |\n",
    "| Model10 |   1   |    Dense   |  512  |    relu    |   30   |       99.93      |\n",
    "|         |   2   |    Dense   |  256  |    relu    |        |                  |\n",
    "|         |   3   |    Dense   |   10  |   softmax  |        |                  |"
   ]
  },
  {
   "cell_type": "code",
   "execution_count": null,
   "id": "f2456742",
   "metadata": {},
   "outputs": [],
   "source": []
  }
 ],
 "metadata": {
  "kernelspec": {
   "display_name": "Python 3 (ipykernel)",
   "language": "python",
   "name": "python3"
  },
  "language_info": {
   "codemirror_mode": {
    "name": "ipython",
    "version": 3
   },
   "file_extension": ".py",
   "mimetype": "text/x-python",
   "name": "python",
   "nbconvert_exporter": "python",
   "pygments_lexer": "ipython3",
   "version": "3.9.12"
  }
 },
 "nbformat": 4,
 "nbformat_minor": 5
}
